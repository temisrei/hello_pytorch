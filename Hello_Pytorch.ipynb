{
 "cells": [
  {
   "cell_type": "code",
   "execution_count": 1,
   "metadata": {
    "collapsed": true
   },
   "outputs": [],
   "source": [
    "import torch"
   ]
  },
  {
   "cell_type": "code",
   "execution_count": 2,
   "metadata": {},
   "outputs": [
    {
     "name": "stdout",
     "output_type": "stream",
     "text": [
      "0.2.0_4\n"
     ]
    }
   ],
   "source": [
    "print(torch.__version__)"
   ]
  },
  {
   "cell_type": "markdown",
   "metadata": {},
   "source": [
    "### 創造矩陣"
   ]
  },
  {
   "cell_type": "code",
   "execution_count": 3,
   "metadata": {},
   "outputs": [
    {
     "data": {
      "text/plain": [
       "\n",
       " 1  1  1\n",
       " 1  1  1\n",
       " 1  1  1\n",
       " 1  1  1\n",
       " 1  1  1\n",
       "[torch.FloatTensor of size 5x3]"
      ]
     },
     "execution_count": 3,
     "metadata": {},
     "output_type": "execute_result"
    }
   ],
   "source": [
    "torch.ones(5, 3)    # 創造一個填滿1的矩陣"
   ]
  },
  {
   "cell_type": "code",
   "execution_count": 4,
   "metadata": {},
   "outputs": [
    {
     "data": {
      "text/plain": [
       "\n",
       " 0  0  0\n",
       " 0  0  0\n",
       " 0  0  0\n",
       " 0  0  0\n",
       " 0  0  0\n",
       "[torch.FloatTensor of size 5x3]"
      ]
     },
     "execution_count": 4,
     "metadata": {},
     "output_type": "execute_result"
    }
   ],
   "source": [
    "torch.zeros(5, 3)   # 創造一個填滿0的矩陣"
   ]
  },
  {
   "cell_type": "code",
   "execution_count": 5,
   "metadata": {},
   "outputs": [
    {
     "data": {
      "text/plain": [
       "\n",
       " 1  0  0  0\n",
       " 0  1  0  0\n",
       " 0  0  1  0\n",
       " 0  0  0  1\n",
       "[torch.FloatTensor of size 4x4]"
      ]
     },
     "execution_count": 5,
     "metadata": {},
     "output_type": "execute_result"
    }
   ],
   "source": [
    "torch.eye(4)        # 創造一個4x4的單位矩陣"
   ]
  },
  {
   "cell_type": "code",
   "execution_count": 6,
   "metadata": {},
   "outputs": [
    {
     "data": {
      "text/plain": [
       "\n",
       " 0.0930  0.7942  0.9413\n",
       " 0.0201  0.6985  0.2073\n",
       " 0.1414  0.3333  0.4809\n",
       " 0.9883  0.6479  0.5202\n",
       " 0.9651  0.5210  0.3246\n",
       "[torch.FloatTensor of size 5x3]"
      ]
     },
     "execution_count": 6,
     "metadata": {},
     "output_type": "execute_result"
    }
   ],
   "source": [
    "torch.rand(5, 3)    # 創造一個元素在[0,1)中隨機分佈的矩陣"
   ]
  },
  {
   "cell_type": "code",
   "execution_count": 7,
   "metadata": {},
   "outputs": [
    {
     "data": {
      "text/plain": [
       "\n",
       "-1.4349  0.2941 -0.6199\n",
       " 0.1594  0.3000  0.2457\n",
       " 2.1466  0.6610  0.5160\n",
       " 0.3449  0.7720 -0.8089\n",
       " 0.2667 -0.0293  0.2880\n",
       "[torch.FloatTensor of size 5x3]"
      ]
     },
     "execution_count": 7,
     "metadata": {},
     "output_type": "execute_result"
    }
   ],
   "source": [
    "torch.randn(5, 3)   # 創造一個元素從常態分佈(0, 1)隨機取值的矩陣"
   ]
  },
  {
   "cell_type": "markdown",
   "metadata": {},
   "source": [
    "### 矩陣操作"
   ]
  },
  {
   "cell_type": "code",
   "execution_count": 8,
   "metadata": {},
   "outputs": [
    {
     "data": {
      "text/plain": [
       "\n",
       " 0.8315  0.1551  0.8539\n",
       " 0.9790  0.6268  0.5157\n",
       " 0.6835  0.1186  0.1578\n",
       " 0.0477  0.0864  0.1230\n",
       " 0.6991  0.8875  0.3321\n",
       "[torch.FloatTensor of size 5x3]"
      ]
     },
     "execution_count": 8,
     "metadata": {},
     "output_type": "execute_result"
    }
   ],
   "source": [
    "m1 = torch.rand(5, 3)\n",
    "m1"
   ]
  },
  {
   "cell_type": "code",
   "execution_count": 9,
   "metadata": {},
   "outputs": [
    {
     "data": {
      "text/plain": [
       "\n",
       " 0.6995  0.3984  0.1375\n",
       " 0.7387  0.7965  0.8928\n",
       " 0.6983  0.6942  0.3670\n",
       " 0.8167  0.4919  0.1964\n",
       " 0.2619  0.8099  0.8563\n",
       "[torch.FloatTensor of size 5x3]"
      ]
     },
     "execution_count": 9,
     "metadata": {},
     "output_type": "execute_result"
    }
   ],
   "source": [
    "m2 = torch.rand(5, 3)\n",
    "m2"
   ]
  },
  {
   "cell_type": "code",
   "execution_count": 10,
   "metadata": {},
   "outputs": [
    {
     "data": {
      "text/plain": [
       "\n",
       " 1.5310  0.5534  0.9914\n",
       " 1.7177  1.4233  1.4085\n",
       " 1.3818  0.8128  0.5248\n",
       " 0.8644  0.5784  0.3195\n",
       " 0.9609  1.6974  1.1883\n",
       "[torch.FloatTensor of size 5x3]"
      ]
     },
     "execution_count": 10,
     "metadata": {},
     "output_type": "execute_result"
    }
   ],
   "source": [
    "m1 + m2                   # 矩陣element-wise相加，其他基本運算是一樣的"
   ]
  },
  {
   "cell_type": "code",
   "execution_count": 11,
   "metadata": {},
   "outputs": [
    {
     "data": {
      "text/plain": [
       "\n",
       " 0.8315  0.1551  0.8539  0.6995  0.3984  0.1375\n",
       " 0.9790  0.6268  0.5157  0.7387  0.7965  0.8928\n",
       " 0.6835  0.1186  0.1578  0.6983  0.6942  0.3670\n",
       " 0.0477  0.0864  0.1230  0.8167  0.4919  0.1964\n",
       " 0.6991  0.8875  0.3321  0.2619  0.8099  0.8563\n",
       "[torch.FloatTensor of size 5x6]"
      ]
     },
     "execution_count": 11,
     "metadata": {},
     "output_type": "execute_result"
    }
   ],
   "source": [
    "# http://pytorch.org/docs/master/torch.html?highlight=cat#torch.cat\n",
    "\n",
    "torch.cat((m1, m2), 1)    # 將m1和m2兩個矩陣在第一個維度合併起來"
   ]
  },
  {
   "cell_type": "code",
   "execution_count": 12,
   "metadata": {},
   "outputs": [
    {
     "data": {
      "text/plain": [
       "\n",
       " 0.8315  0.1551  0.8539\n",
       " 0.9790  0.6268  0.5157\n",
       " 0.6835  0.1186  0.1578\n",
       " 0.0477  0.0864  0.1230\n",
       " 0.6991  0.8875  0.3321\n",
       " 0.6995  0.3984  0.1375\n",
       " 0.7387  0.7965  0.8928\n",
       " 0.6983  0.6942  0.3670\n",
       " 0.8167  0.4919  0.1964\n",
       " 0.2619  0.8099  0.8563\n",
       "[torch.FloatTensor of size 10x3]"
      ]
     },
     "execution_count": 12,
     "metadata": {},
     "output_type": "execute_result"
    }
   ],
   "source": [
    "torch.cat((m1, m2), 0)"
   ]
  },
  {
   "cell_type": "code",
   "execution_count": 13,
   "metadata": {},
   "outputs": [
    {
     "data": {
      "text/plain": [
       "\n",
       "(0 ,.,.) = \n",
       "  0.8315  0.1551  0.8539\n",
       "  0.6995  0.3984  0.1375\n",
       "\n",
       "(1 ,.,.) = \n",
       "  0.9790  0.6268  0.5157\n",
       "  0.7387  0.7965  0.8928\n",
       "\n",
       "(2 ,.,.) = \n",
       "  0.6835  0.1186  0.1578\n",
       "  0.6983  0.6942  0.3670\n",
       "\n",
       "(3 ,.,.) = \n",
       "  0.0477  0.0864  0.1230\n",
       "  0.8167  0.4919  0.1964\n",
       "\n",
       "(4 ,.,.) = \n",
       "  0.6991  0.8875  0.3321\n",
       "  0.2619  0.8099  0.8563\n",
       "[torch.FloatTensor of size 5x2x3]"
      ]
     },
     "execution_count": 13,
     "metadata": {},
     "output_type": "execute_result"
    }
   ],
   "source": [
    "# http://pytorch.org/docs/master/torch.html?highlight=stack#torch.stack\n",
    "\n",
    "torch.stack((m1, m2), 1)  # 將m1和m2兩個矩陣在新的維度（第一維）疊起來"
   ]
  },
  {
   "cell_type": "code",
   "execution_count": 14,
   "metadata": {},
   "outputs": [
    {
     "data": {
      "text/plain": [
       "\n",
       "(0 ,.,.) = \n",
       "  0.8315  0.1551  0.8539\n",
       "  0.9790  0.6268  0.5157\n",
       "  0.6835  0.1186  0.1578\n",
       "  0.0477  0.0864  0.1230\n",
       "  0.6991  0.8875  0.3321\n",
       "\n",
       "(1 ,.,.) = \n",
       "  0.6995  0.3984  0.1375\n",
       "  0.7387  0.7965  0.8928\n",
       "  0.6983  0.6942  0.3670\n",
       "  0.8167  0.4919  0.1964\n",
       "  0.2619  0.8099  0.8563\n",
       "[torch.FloatTensor of size 2x5x3]"
      ]
     },
     "execution_count": 14,
     "metadata": {},
     "output_type": "execute_result"
    }
   ],
   "source": [
    "torch.stack((m1, m2), 0)"
   ]
  },
  {
   "cell_type": "code",
   "execution_count": 15,
   "metadata": {},
   "outputs": [
    {
     "data": {
      "text/plain": [
       "\n",
       "(0 ,.,.) = \n",
       "  0.8315  0.6995\n",
       "  0.1551  0.3984\n",
       "  0.8539  0.1375\n",
       "\n",
       "(1 ,.,.) = \n",
       "  0.9790  0.7387\n",
       "  0.6268  0.7965\n",
       "  0.5157  0.8928\n",
       "\n",
       "(2 ,.,.) = \n",
       "  0.6835  0.6983\n",
       "  0.1186  0.6942\n",
       "  0.1578  0.3670\n",
       "\n",
       "(3 ,.,.) = \n",
       "  0.0477  0.8167\n",
       "  0.0864  0.4919\n",
       "  0.1230  0.1964\n",
       "\n",
       "(4 ,.,.) = \n",
       "  0.6991  0.2619\n",
       "  0.8875  0.8099\n",
       "  0.3321  0.8563\n",
       "[torch.FloatTensor of size 5x3x2]"
      ]
     },
     "execution_count": 15,
     "metadata": {},
     "output_type": "execute_result"
    }
   ],
   "source": [
    "torch.stack((m1, m2), 2)"
   ]
  },
  {
   "cell_type": "code",
   "execution_count": null,
   "metadata": {
    "collapsed": true
   },
   "outputs": [],
   "source": []
  }
 ],
 "metadata": {
  "kernelspec": {
   "display_name": "Python [conda env:pytorch]",
   "language": "python",
   "name": "conda-env-pytorch-py"
  },
  "language_info": {
   "codemirror_mode": {
    "name": "ipython",
    "version": 3
   },
   "file_extension": ".py",
   "mimetype": "text/x-python",
   "name": "python",
   "nbconvert_exporter": "python",
   "pygments_lexer": "ipython3",
   "version": "3.5.4"
  }
 },
 "nbformat": 4,
 "nbformat_minor": 2
}
